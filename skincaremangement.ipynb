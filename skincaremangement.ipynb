{
  "nbformat": 4,
  "nbformat_minor": 0,
  "metadata": {
    "colab": {
      "provenance": []
    },
    "kernelspec": {
      "name": "python3",
      "display_name": "Python 3"
    },
    "language_info": {
      "name": "python"
    }
  },
  "cells": [
    {
      "cell_type": "code",
      "source": [
        "def skin_care():\n",
        "    skin_type = input(\"Press your skin type (1.dry 2.oily 3.combination): \")\n",
        "\n",
        "    if skin_type == \"1\":\n",
        "        print(\"You have dry skin. Recommended products:\")\n",
        "        recommended_products = [\n",
        "            {\"name\": \"Nivea Soft Cream\", \"price\": 299},\n",
        "            {\"name\": \"Himalaya Moisturizer\", \"price\": 180},\n",
        "            {\"name\": \"Cetaphil Moisturizing Lotion\", \"price\": 475},\n",
        "            {\"name\": \"Neutrogena Hydro Boost\", \"price\": 899},\n",
        "            {\"name\": \"Aveeno Daily Moisturizer\", \"price\": 599}\n",
        "        ]\n",
        "\n",
        "    elif skin_type == \"2\":\n",
        "        print(\"You have oily skin. Recommended products:\")\n",
        "        recommended_products = [\n",
        "            {\"name\": \"Cetaphil Skin Cleanser\", \"price\": 350},\n",
        "            {\"name\": \"Derma Oil Free\", \"price\": 428},\n",
        "            {\"name\": \"Plum Toner\", \"price\": 295},\n",
        "            {\"name\": \"Garnier Bright\", \"price\": 284},\n",
        "            {\"name\": \"Hypen Sun Screen\", \"price\": 449}\n",
        "        ]\n",
        "\n",
        "    elif skin_type == \"3\":\n",
        "        print(\"You have combination skin. Recommended products:\")\n",
        "        recommended_products = [\n",
        "            {\"name\": \"Simple Face Wash\", \"price\": 350},\n",
        "            {\"name\": \"Neutrogena Oil-Free Moisturizer\", \"price\": 550},\n",
        "            {\"name\": \"The Body Shop Tea Tree Toner\", \"price\": 695},\n",
        "            {\"name\": \"Kaya Hydrating Lotion\", \"price\": 499},\n",
        "            {\"name\": \"Clinique Dramatically Different Moisturizing Gel\", \"price\": 1250}\n",
        "        ]\n",
        "\n",
        "    else:\n",
        "        print(\"Invalid selection. Please choose 1, 2, or 3.\")\n",
        "        return\n",
        "\n",
        "    for product in recommended_products:\n",
        "        print(f\"- {product['name']}: {product['price']} INR\")\n",
        "\n",
        "# Example usage\n",
        "skin_care()"
      ],
      "metadata": {
        "colab": {
          "base_uri": "https://localhost:8080/"
        },
        "id": "QrUsiK1k55-b",
        "outputId": "26b1b0ee-afad-45e9-c6f7-b05aae74b744"
      },
      "execution_count": 1,
      "outputs": [
        {
          "output_type": "stream",
          "name": "stdout",
          "text": [
            "Press your skin type (1.dry 2.oily 3.combination): 1\n",
            "You have dry skin. Recommended products:\n",
            "- Nivea Soft Cream: 299 INR\n",
            "- Himalaya Moisturizer: 180 INR\n",
            "- Cetaphil Moisturizing Lotion: 475 INR\n",
            "- Neutrogena Hydro Boost: 899 INR\n",
            "- Aveeno Daily Moisturizer: 599 INR\n"
          ]
        }
      ]
    }
  ]
}